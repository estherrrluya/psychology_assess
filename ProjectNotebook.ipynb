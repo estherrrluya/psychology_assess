{
 "cells": [
  {
   "cell_type": "markdown",
   "metadata": {},
   "source": [
    "# Project Description"
   ]
  },
  {
   "cell_type": "markdown",
   "metadata": {},
   "source": [
    "My project is a psychological assessment system for patients with Major Depressive Disorders and Anxiety. The system takes in the patients info and assess the patients conditions to then provide recommandations and tips for the patients according to the result of the assessment."
   ]
  },
  {
   "cell_type": "markdown",
   "metadata": {},
   "source": [
    "## Project Code\n",
    "\n",
    "If it makes sense for your project, you can have code and outputs here in the notebook as well."
   ]
  },
  {
   "cell_type": "code",
   "execution_count": 1,
   "metadata": {},
   "outputs": [],
   "source": [
    "from my_module.classes import PatientsInfo"
   ]
  },
  {
   "cell_type": "markdown",
   "metadata": {},
   "source": [
    "Symptoms must be chosen from the following:\n",
    "\n",
    "depression_symptoms = \n",
    "    \n",
    "    'feeling_down',  \n",
    "    'loss_of_interest',  \n",
    "    'weight_changes',  \n",
    "    'sleep_issues',  \n",
    "    'fatigue',  \n",
    "    'impaired_social_functioning'    \n",
    "        \n",
    "anxiety_sympyoms =\n",
    "    \n",
    "    'excessive_worry',  \n",
    "    'distress',  \n",
    "    'feeling_restless',  \n",
    "    'fatigue',  \n",
    "    'difficulty_concentrating',  \n",
    "    'irritability',  \n",
    "    'muscle_tension',  \n",
    "    'sleep_issues'"
   ]
  },
  {
   "cell_type": "code",
   "execution_count": 2,
   "metadata": {},
   "outputs": [
    {
     "data": {
      "text/plain": [
       "([{'disease_name': 'Anxiety', 'duration_illness': 4}],\n",
       " {'number_anxiety': 1, 'number_depression': 0})"
      ]
     },
     "execution_count": 2,
     "metadata": {},
     "output_type": "execute_result"
    }
   ],
   "source": [
    "good = PatientsInfo()\n",
    "good.disease_cat('Anxiety', 4)"
   ]
  },
  {
   "cell_type": "code",
   "execution_count": 3,
   "metadata": {},
   "outputs": [
    {
     "data": {
      "text/plain": [
       "([{'disease_name': 'Anxiety', 'duration_illness': 2},\n",
       "  {'disease_name': 'Depression', 'duration_illness': 3},\n",
       "  {'disease_name': 'Anxiety', 'duration_illness': 4},\n",
       "  {'disease_name': 'Depression', 'duration_illness': 1}],\n",
       " {'number_anxiety': 2, 'number_depression': 2})"
      ]
     },
     "execution_count": 3,
     "metadata": {},
     "output_type": "execute_result"
    }
   ],
   "source": [
    "# Code Demo for one patient\n",
    "# Symptoms must be input in a list or tuple\n",
    "hospital = PatientsInfo()\n",
    "hospital.disease_cat('Anxiety', 2)\n",
    "hospital.disease_cat('Depression', 3)\n",
    "hospital.disease_cat('Anxiety', 4)\n",
    "hospital.disease_cat('Depression', 1)"
   ]
  },
  {
   "cell_type": "code",
   "execution_count": 4,
   "metadata": {
    "scrolled": false
   },
   "outputs": [
    {
     "data": {
      "text/plain": [
       "'Urgent care is not needed for this patients with Anxiety'"
      ]
     },
     "execution_count": 4,
     "metadata": {},
     "output_type": "execute_result"
    }
   ],
   "source": [
    "symptoms = ['excessive_worry', 'difficulty_concentrating', 'feeling_restless', 'fatigue']\n",
    "\n",
    "hospital.urgent_care('Anxiety', 2, symptoms)"
   ]
  },
  {
   "cell_type": "code",
   "execution_count": 5,
   "metadata": {},
   "outputs": [
    {
     "data": {
      "text/plain": [
       "'Can take melatonin supplements or sleeping pills'"
      ]
     },
     "execution_count": 5,
     "metadata": {},
     "output_type": "execute_result"
    }
   ],
   "source": [
    "symptoms = ['feeling_restless',  'fatigue',  'sleep_issues']  \n",
    "\n",
    "hospital.urgent_care('Anxiety', 4, symptoms)"
   ]
  },
  {
   "cell_type": "code",
   "execution_count": 6,
   "metadata": {},
   "outputs": [
    {
     "data": {
      "text/plain": [
       "'Urgent care is needed for this patients with Depression'"
      ]
     },
     "execution_count": 6,
     "metadata": {},
     "output_type": "execute_result"
    }
   ],
   "source": [
    "symptoms = ['feeling_down', \n",
    "            'loss_of_interest', \n",
    "            'weight_changes', \n",
    "            'sleep_issues', \n",
    "            'fatigue', \n",
    "            'impaired_social_functioning']\n",
    "\n",
    "hospital.urgent_care('Depression', 3, symptoms)"
   ]
  },
  {
   "cell_type": "code",
   "execution_count": 7,
   "metadata": {},
   "outputs": [
    {
     "data": {
      "text/plain": [
       "'Cognitive behavioral therapy (CBT) or Acceptance and Commitment Therapy(ACT)'"
      ]
     },
     "execution_count": 7,
     "metadata": {},
     "output_type": "execute_result"
    }
   ],
   "source": [
    "hospital.treatment('Anxiety', 'Psychotherapy')"
   ]
  },
  {
   "cell_type": "code",
   "execution_count": 8,
   "metadata": {
    "scrolled": true
   },
   "outputs": [
    {
     "data": {
      "text/plain": [
       "'Lexapro-Escitalopram'"
      ]
     },
     "execution_count": 8,
     "metadata": {},
     "output_type": "execute_result"
    }
   ],
   "source": [
    "hospital.treatment('Anxiety', 'Pharmacotherapy')"
   ]
  },
  {
   "cell_type": "code",
   "execution_count": 9,
   "metadata": {},
   "outputs": [
    {
     "data": {
      "text/plain": [
       "'Cognitive behavioral therapy (CBT) or Dialectical Behavioral Therapy(DBT)'"
      ]
     },
     "execution_count": 9,
     "metadata": {},
     "output_type": "execute_result"
    }
   ],
   "source": [
    "hospital.treatment('Depression', 'Psychotherapy')"
   ]
  },
  {
   "cell_type": "code",
   "execution_count": 10,
   "metadata": {
    "scrolled": true
   },
   "outputs": [
    {
     "data": {
      "text/plain": [
       "'Celexa-Italopram'"
      ]
     },
     "execution_count": 10,
     "metadata": {},
     "output_type": "execute_result"
    }
   ],
   "source": [
    "hospital.treatment('Depression', 'Pharmacotherapy')"
   ]
  },
  {
   "cell_type": "code",
   "execution_count": 11,
   "metadata": {
    "scrolled": true
   },
   "outputs": [
    {
     "data": {
      "text/plain": [
       "'Your preference must either be Psychotherapy or Pharmacotherapy'"
      ]
     },
     "execution_count": 11,
     "metadata": {},
     "output_type": "execute_result"
    }
   ],
   "source": [
    "hospital.treatment('Depression', 'Therapy')"
   ]
  },
  {
   "cell_type": "code",
   "execution_count": 12,
   "metadata": {},
   "outputs": [
    {
     "name": "stdout",
     "output_type": "stream",
     "text": [
      "\u001b[1m============================= test session starts ==============================\u001b[0m\r\n",
      "platform linux -- Python 3.9.5, pytest-6.2.5, py-1.10.0, pluggy-1.0.0\r\n",
      "rootdir: /home/l7jiang/FinalProject_COGS18_WI22\r\n",
      "plugins: anyio-3.2.1\r\n",
      "collected 3 items                                                              \u001b[0m\r\n",
      "\r\n",
      "my_module/test_functions.py \u001b[32m.\u001b[0m\u001b[32m.\u001b[0m\u001b[32m.\u001b[0m\u001b[32m                                          [100%]\u001b[0m\r\n",
      "\r\n",
      "\u001b[32m============================== \u001b[32m\u001b[1m3 passed\u001b[0m\u001b[32m in 0.02s\u001b[0m\u001b[32m ===============================\u001b[0m\r\n"
     ]
    }
   ],
   "source": [
    "# test it out\n",
    "!pytest my_module/test_functions.py"
   ]
  },
  {
   "cell_type": "markdown",
   "metadata": {},
   "source": [
    "#### Extra Credit (*optional*)\n",
    "\n",
    "Replace all of this text with a brief explanation (~3 sentences) of: \n",
    "1. Never Learned Python before.\n",
    "2. I did not know how to write the test function for class, so I failed many times during the assert session of the project; however, I learned about the function of \"@pytest fixation\" which can fix the class to the object that I want to run test on and I was able to apply it on my test_functions."
   ]
  }
 ],
 "metadata": {
  "kernelspec": {
   "display_name": "Python 3 (ipykernel)",
   "language": "python",
   "name": "python3"
  },
  "language_info": {
   "codemirror_mode": {
    "name": "ipython",
    "version": 3
   },
   "file_extension": ".py",
   "mimetype": "text/x-python",
   "name": "python",
   "nbconvert_exporter": "python",
   "pygments_lexer": "ipython3",
   "version": "3.9.5"
  }
 },
 "nbformat": 4,
 "nbformat_minor": 2
}
